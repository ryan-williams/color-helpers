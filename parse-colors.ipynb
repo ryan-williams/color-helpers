{
 "cells": [
  {
   "cell_type": "code",
   "execution_count": null,
   "metadata": {},
   "outputs": [],
   "source": [
    "from lxml.cssselect import CSSSelector\n",
    "from lxml.etree import parse, XMLParser\n",
    "from re import match\n",
    "\n",
    "parser = XMLParser(recover=True)\n",
    "with open('Color Palettes.htm','r') as f:\n",
    "    t = parse(f, parser)\n",
    "\n",
    "ps = CSSSelector('.w3-container > p')(t)\n",
    "colors = [ m['color'] for p in ps if (m := match('^HEX: (?P<color>#[a-f0-9]{6})$', p.text)) ]"
   ]
  }
 ],
 "metadata": {
  "kernelspec": {
   "display_name": "Python 3",
   "language": "python",
   "name": "python3"
  },
  "language_info": {
   "codemirror_mode": {
    "name": "ipython",
    "version": 3
   },
   "file_extension": ".py",
   "mimetype": "text/x-python",
   "name": "python",
   "nbconvert_exporter": "python",
   "pygments_lexer": "ipython3",
   "version": "3.8.6"
  }
 },
 "nbformat": 4,
 "nbformat_minor": 4
}
